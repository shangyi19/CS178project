{
 "cells": [
  {
   "cell_type": "code",
   "execution_count": 1,
   "metadata": {},
   "outputs": [],
   "source": [
    "import warnings\n",
    "warnings.filterwarnings('ignore')\n",
    "\n",
    "import numpy as np\n",
    "import pandas as pd\n",
    "import time\n",
    "from sklearn import *\n",
    "\n",
    "from itertools import product\n",
    "# from sklearn import tree\n",
    "from sklearn.ensemble import AdaBoostClassifier\n",
    "from sklearn.metrics import confusion_matrix,accuracy_score\n",
    "from sklearn.model_selection import cross_val_score, StratifiedKFold\n",
    "\n"
   ]
  },
  {
   "cell_type": "code",
   "execution_count": 2,
   "metadata": {},
   "outputs": [],
   "source": [
    "#Load Data into Dataframe for Stacking \n",
    "# Load the training data\n",
    "df_X = pd.read_table('data/X_train.txt', delim_whitespace=True, names=None,header=None)\n",
    "df_Y = pd.read_table('data/Y_train.txt', delim_whitespace=True, names=None,header=None)\n",
    "\n",
    "# And the test features\n",
    "df_Xte = pd.read_table('data/X_test.txt', delim_whitespace=True, names=None,header=None)\n"
   ]
  },
  {
   "cell_type": "code",
   "execution_count": 3,
   "metadata": {},
   "outputs": [
    {
     "data": {
      "text/plain": [
       "200000"
      ]
     },
     "execution_count": 3,
     "metadata": {},
     "output_type": "execute_result"
    }
   ],
   "source": [
    "#Check length of test data\n",
    "df_Xte.shape[0]"
   ]
  },
  {
   "cell_type": "code",
   "execution_count": 4,
   "metadata": {},
   "outputs": [
    {
     "data": {
      "text/html": [
       "<div>\n",
       "<style scoped>\n",
       "    .dataframe tbody tr th:only-of-type {\n",
       "        vertical-align: middle;\n",
       "    }\n",
       "\n",
       "    .dataframe tbody tr th {\n",
       "        vertical-align: top;\n",
       "    }\n",
       "\n",
       "    .dataframe thead th {\n",
       "        text-align: right;\n",
       "    }\n",
       "</style>\n",
       "<table border=\"1\" class=\"dataframe\">\n",
       "  <thead>\n",
       "    <tr style=\"text-align: right;\">\n",
       "      <th></th>\n",
       "      <th>0</th>\n",
       "      <th>1</th>\n",
       "      <th>2</th>\n",
       "      <th>3</th>\n",
       "      <th>4</th>\n",
       "      <th>5</th>\n",
       "      <th>6</th>\n",
       "      <th>7</th>\n",
       "      <th>8</th>\n",
       "      <th>9</th>\n",
       "      <th>10</th>\n",
       "      <th>11</th>\n",
       "      <th>12</th>\n",
       "      <th>13</th>\n",
       "    </tr>\n",
       "  </thead>\n",
       "  <tbody>\n",
       "    <tr>\n",
       "      <td>0</td>\n",
       "      <td>242.0</td>\n",
       "      <td>227.0</td>\n",
       "      <td>240.92</td>\n",
       "      <td>232.44</td>\n",
       "      <td>1195.0</td>\n",
       "      <td>253.0</td>\n",
       "      <td>0.0</td>\n",
       "      <td>1.26710</td>\n",
       "      <td>6.4128</td>\n",
       "      <td>1.98690</td>\n",
       "      <td>3.9756</td>\n",
       "      <td>2.3392</td>\n",
       "      <td>6.3537</td>\n",
       "      <td>0.0</td>\n",
       "    </tr>\n",
       "    <tr>\n",
       "      <td>1</td>\n",
       "      <td>249.0</td>\n",
       "      <td>230.0</td>\n",
       "      <td>242.31</td>\n",
       "      <td>233.68</td>\n",
       "      <td>1579.0</td>\n",
       "      <td>243.0</td>\n",
       "      <td>0.0</td>\n",
       "      <td>9.68310</td>\n",
       "      <td>6.0824</td>\n",
       "      <td>1.19640</td>\n",
       "      <td>3.4577</td>\n",
       "      <td>2.0416</td>\n",
       "      <td>7.6746</td>\n",
       "      <td>0.0</td>\n",
       "    </tr>\n",
       "    <tr>\n",
       "      <td>2</td>\n",
       "      <td>223.0</td>\n",
       "      <td>195.0</td>\n",
       "      <td>227.64</td>\n",
       "      <td>204.42</td>\n",
       "      <td>1034.0</td>\n",
       "      <td>603.0</td>\n",
       "      <td>318.0</td>\n",
       "      <td>1.52860</td>\n",
       "      <td>17.8690</td>\n",
       "      <td>13.23000</td>\n",
       "      <td>5.7120</td>\n",
       "      <td>4.7216</td>\n",
       "      <td>6.6030</td>\n",
       "      <td>0.0</td>\n",
       "    </tr>\n",
       "    <tr>\n",
       "      <td>3</td>\n",
       "      <td>234.0</td>\n",
       "      <td>221.0</td>\n",
       "      <td>236.27</td>\n",
       "      <td>229.73</td>\n",
       "      <td>7716.0</td>\n",
       "      <td>3907.0</td>\n",
       "      <td>0.0</td>\n",
       "      <td>0.60465</td>\n",
       "      <td>8.0497</td>\n",
       "      <td>3.44760</td>\n",
       "      <td>2.4845</td>\n",
       "      <td>1.5741</td>\n",
       "      <td>1.4205</td>\n",
       "      <td>0.0</td>\n",
       "    </tr>\n",
       "    <tr>\n",
       "      <td>4</td>\n",
       "      <td>234.0</td>\n",
       "      <td>233.0</td>\n",
       "      <td>245.51</td>\n",
       "      <td>234.10</td>\n",
       "      <td>545.0</td>\n",
       "      <td>21.0</td>\n",
       "      <td>0.0</td>\n",
       "      <td>6.74730</td>\n",
       "      <td>5.2649</td>\n",
       "      <td>0.86766</td>\n",
       "      <td>5.9626</td>\n",
       "      <td>4.2450</td>\n",
       "      <td>3.1429</td>\n",
       "      <td>24.2</td>\n",
       "    </tr>\n",
       "  </tbody>\n",
       "</table>\n",
       "</div>"
      ],
      "text/plain": [
       "      0      1       2       3       4       5      6        7        8   \\\n",
       "0  242.0  227.0  240.92  232.44  1195.0   253.0    0.0  1.26710   6.4128   \n",
       "1  249.0  230.0  242.31  233.68  1579.0   243.0    0.0  9.68310   6.0824   \n",
       "2  223.0  195.0  227.64  204.42  1034.0   603.0  318.0  1.52860  17.8690   \n",
       "3  234.0  221.0  236.27  229.73  7716.0  3907.0    0.0  0.60465   8.0497   \n",
       "4  234.0  233.0  245.51  234.10   545.0    21.0    0.0  6.74730   5.2649   \n",
       "\n",
       "         9       10      11      12    13  \n",
       "0   1.98690  3.9756  2.3392  6.3537   0.0  \n",
       "1   1.19640  3.4577  2.0416  7.6746   0.0  \n",
       "2  13.23000  5.7120  4.7216  6.6030   0.0  \n",
       "3   3.44760  2.4845  1.5741  1.4205   0.0  \n",
       "4   0.86766  5.9626  4.2450  3.1429  24.2  "
      ]
     },
     "execution_count": 4,
     "metadata": {},
     "output_type": "execute_result"
    }
   ],
   "source": [
    "#Check if data has been loaded correctly \n",
    "df_X.head()"
   ]
  },
  {
   "cell_type": "code",
   "execution_count": 5,
   "metadata": {},
   "outputs": [
    {
     "data": {
      "text/html": [
       "<div>\n",
       "<style scoped>\n",
       "    .dataframe tbody tr th:only-of-type {\n",
       "        vertical-align: middle;\n",
       "    }\n",
       "\n",
       "    .dataframe tbody tr th {\n",
       "        vertical-align: top;\n",
       "    }\n",
       "\n",
       "    .dataframe thead th {\n",
       "        text-align: right;\n",
       "    }\n",
       "</style>\n",
       "<table border=\"1\" class=\"dataframe\">\n",
       "  <thead>\n",
       "    <tr style=\"text-align: right;\">\n",
       "      <th></th>\n",
       "      <th>0</th>\n",
       "    </tr>\n",
       "  </thead>\n",
       "  <tbody>\n",
       "    <tr>\n",
       "      <td>0</td>\n",
       "      <td>0</td>\n",
       "    </tr>\n",
       "    <tr>\n",
       "      <td>1</td>\n",
       "      <td>1</td>\n",
       "    </tr>\n",
       "    <tr>\n",
       "      <td>2</td>\n",
       "      <td>1</td>\n",
       "    </tr>\n",
       "    <tr>\n",
       "      <td>3</td>\n",
       "      <td>1</td>\n",
       "    </tr>\n",
       "    <tr>\n",
       "      <td>4</td>\n",
       "      <td>0</td>\n",
       "    </tr>\n",
       "  </tbody>\n",
       "</table>\n",
       "</div>"
      ],
      "text/plain": [
       "   0\n",
       "0  0\n",
       "1  1\n",
       "2  1\n",
       "3  1\n",
       "4  0"
      ]
     },
     "execution_count": 5,
     "metadata": {},
     "output_type": "execute_result"
    }
   ],
   "source": [
    "#Check if data has been loaded correctly \n",
    "df_Y.head()"
   ]
  },
  {
   "cell_type": "code",
   "execution_count": 6,
   "metadata": {},
   "outputs": [
    {
     "data": {
      "text/html": [
       "<div>\n",
       "<style scoped>\n",
       "    .dataframe tbody tr th:only-of-type {\n",
       "        vertical-align: middle;\n",
       "    }\n",
       "\n",
       "    .dataframe tbody tr th {\n",
       "        vertical-align: top;\n",
       "    }\n",
       "\n",
       "    .dataframe thead th {\n",
       "        text-align: right;\n",
       "    }\n",
       "</style>\n",
       "<table border=\"1\" class=\"dataframe\">\n",
       "  <thead>\n",
       "    <tr style=\"text-align: right;\">\n",
       "      <th></th>\n",
       "      <th>0</th>\n",
       "      <th>1</th>\n",
       "      <th>2</th>\n",
       "      <th>3</th>\n",
       "      <th>4</th>\n",
       "      <th>5</th>\n",
       "      <th>6</th>\n",
       "      <th>7</th>\n",
       "      <th>8</th>\n",
       "      <th>9</th>\n",
       "      <th>10</th>\n",
       "      <th>11</th>\n",
       "      <th>12</th>\n",
       "      <th>13</th>\n",
       "    </tr>\n",
       "  </thead>\n",
       "  <tbody>\n",
       "    <tr>\n",
       "      <td>0</td>\n",
       "      <td>246.00</td>\n",
       "      <td>226.0</td>\n",
       "      <td>243.27</td>\n",
       "      <td>233.43</td>\n",
       "      <td>7121.0</td>\n",
       "      <td>648.0</td>\n",
       "      <td>0.0</td>\n",
       "      <td>1.1235</td>\n",
       "      <td>5.5226</td>\n",
       "      <td>1.9747</td>\n",
       "      <td>2.3390</td>\n",
       "      <td>1.1438</td>\n",
       "      <td>5.3022</td>\n",
       "      <td>0.0</td>\n",
       "    </tr>\n",
       "    <tr>\n",
       "      <td>1</td>\n",
       "      <td>239.00</td>\n",
       "      <td>226.0</td>\n",
       "      <td>240.77</td>\n",
       "      <td>233.31</td>\n",
       "      <td>2109.0</td>\n",
       "      <td>560.0</td>\n",
       "      <td>0.0</td>\n",
       "      <td>5.7154</td>\n",
       "      <td>6.3213</td>\n",
       "      <td>1.5999</td>\n",
       "      <td>4.3318</td>\n",
       "      <td>3.1834</td>\n",
       "      <td>3.0579</td>\n",
       "      <td>0.0</td>\n",
       "    </tr>\n",
       "    <tr>\n",
       "      <td>2</td>\n",
       "      <td>251.62</td>\n",
       "      <td>232.0</td>\n",
       "      <td>245.82</td>\n",
       "      <td>233.57</td>\n",
       "      <td>199.0</td>\n",
       "      <td>14.0</td>\n",
       "      <td>0.0</td>\n",
       "      <td>3.4131</td>\n",
       "      <td>5.7395</td>\n",
       "      <td>1.2936</td>\n",
       "      <td>5.6142</td>\n",
       "      <td>2.0601</td>\n",
       "      <td>20.0000</td>\n",
       "      <td>0.0</td>\n",
       "    </tr>\n",
       "    <tr>\n",
       "      <td>3</td>\n",
       "      <td>253.00</td>\n",
       "      <td>243.0</td>\n",
       "      <td>249.18</td>\n",
       "      <td>249.18</td>\n",
       "      <td>4095.0</td>\n",
       "      <td>0.0</td>\n",
       "      <td>0.0</td>\n",
       "      <td>10.3200</td>\n",
       "      <td>2.5050</td>\n",
       "      <td>0.0000</td>\n",
       "      <td>1.5908</td>\n",
       "      <td>1.2399</td>\n",
       "      <td>20.0000</td>\n",
       "      <td>0.0</td>\n",
       "    </tr>\n",
       "    <tr>\n",
       "      <td>4</td>\n",
       "      <td>247.00</td>\n",
       "      <td>240.0</td>\n",
       "      <td>248.12</td>\n",
       "      <td>248.12</td>\n",
       "      <td>321.0</td>\n",
       "      <td>0.0</td>\n",
       "      <td>0.0</td>\n",
       "      <td>10.8170</td>\n",
       "      <td>3.4157</td>\n",
       "      <td>0.0000</td>\n",
       "      <td>4.2366</td>\n",
       "      <td>1.2236</td>\n",
       "      <td>20.0000</td>\n",
       "      <td>0.0</td>\n",
       "    </tr>\n",
       "  </tbody>\n",
       "</table>\n",
       "</div>"
      ],
      "text/plain": [
       "       0      1       2       3       4      5    6        7       8       9   \\\n",
       "0  246.00  226.0  243.27  233.43  7121.0  648.0  0.0   1.1235  5.5226  1.9747   \n",
       "1  239.00  226.0  240.77  233.31  2109.0  560.0  0.0   5.7154  6.3213  1.5999   \n",
       "2  251.62  232.0  245.82  233.57   199.0   14.0  0.0   3.4131  5.7395  1.2936   \n",
       "3  253.00  243.0  249.18  249.18  4095.0    0.0  0.0  10.3200  2.5050  0.0000   \n",
       "4  247.00  240.0  248.12  248.12   321.0    0.0  0.0  10.8170  3.4157  0.0000   \n",
       "\n",
       "       10      11       12   13  \n",
       "0  2.3390  1.1438   5.3022  0.0  \n",
       "1  4.3318  3.1834   3.0579  0.0  \n",
       "2  5.6142  2.0601  20.0000  0.0  \n",
       "3  1.5908  1.2399  20.0000  0.0  \n",
       "4  4.2366  1.2236  20.0000  0.0  "
      ]
     },
     "execution_count": 6,
     "metadata": {},
     "output_type": "execute_result"
    }
   ],
   "source": [
    "#Check Test data load\n",
    "df_Xte.head()"
   ]
  },
  {
   "cell_type": "code",
   "execution_count": 7,
   "metadata": {},
   "outputs": [],
   "source": [
    "# Load Data in the form of arrays to perform individual Model training & testing\n",
    "# Load the training data\n",
    "X = np.genfromtxt('data/X_train.txt', delimiter=None)\n",
    "Y = np.genfromtxt('data/Y_train.txt', delimiter=None)\n",
    "\n",
    "# And the test features\n",
    "Xte = np.genfromtxt('data/X_test.txt', delimiter=None)"
   ]
  },
  {
   "cell_type": "code",
   "execution_count": 8,
   "metadata": {},
   "outputs": [
    {
     "name": "stdout",
     "output_type": "stream",
     "text": [
      "(200000, 14) (200000,) (200000, 14)\n"
     ]
    }
   ],
   "source": [
    "#Check Shape\n",
    "print(X.shape, Y.shape, Xte.shape)"
   ]
  },
  {
   "cell_type": "code",
   "execution_count": 9,
   "metadata": {},
   "outputs": [
    {
     "data": {
      "text/plain": [
       "array([[246.    , 226.    , 243.27  , ...,   1.1438,   5.3022,   0.    ],\n",
       "       [239.    , 226.    , 240.77  , ...,   3.1834,   3.0579,   0.    ],\n",
       "       [251.62  , 232.    , 245.82  , ...,   2.0601,  20.    ,   0.    ],\n",
       "       ...,\n",
       "       [252.    , 237.    , 248.23  , ...,   1.8303,  20.    ,   0.    ],\n",
       "       [247.    , 235.    , 247.1   , ...,   2.1439,  20.    ,   0.    ],\n",
       "       [247.    , 238.    , 248.61  , ...,   1.5008,  20.    ,   0.    ]])"
      ]
     },
     "execution_count": 9,
     "metadata": {},
     "output_type": "execute_result"
    }
   ],
   "source": [
    "#Check loaded test data\n",
    "Xte"
   ]
  },
  {
   "cell_type": "code",
   "execution_count": 10,
   "metadata": {},
   "outputs": [
    {
     "data": {
      "text/plain": [
       "array([[242.    , 227.    , 240.92  , ...,   2.3392,   6.3537,   0.    ],\n",
       "       [249.    , 230.    , 242.31  , ...,   2.0416,   7.6746,   0.    ],\n",
       "       [223.    , 195.    , 227.64  , ...,   4.7216,   6.603 ,   0.    ],\n",
       "       ...,\n",
       "       [250.    , 234.    , 244.51  , ...,   3.3698,  20.    ,   0.    ],\n",
       "       [236.5   , 227.    , 241.98  , ...,   2.7834,   2.5209,   0.    ],\n",
       "       [242.    , 229.    , 241.38  , ...,   1.9358,   2.1394,   0.    ]])"
      ]
     },
     "execution_count": 10,
     "metadata": {},
     "output_type": "execute_result"
    }
   ],
   "source": [
    "#Check X data\n",
    "X"
   ]
  },
  {
   "cell_type": "code",
   "execution_count": 11,
   "metadata": {},
   "outputs": [
    {
     "data": {
      "text/plain": [
       "array([0., 1., 1., ..., 0., 0., 1.])"
      ]
     },
     "execution_count": 11,
     "metadata": {},
     "output_type": "execute_result"
    }
   ],
   "source": [
    "#Check Y data\n",
    "Y"
   ]
  },
  {
   "cell_type": "code",
   "execution_count": 12,
   "metadata": {},
   "outputs": [],
   "source": [
    "# split Array data training / validation data for individual model training\n",
    "x_train, x_validation, y_train, y_validation = model_selection.train_test_split(\n",
    "    X, Y, test_size=0.2, random_state=42)"
   ]
  },
  {
   "cell_type": "code",
   "execution_count": 13,
   "metadata": {},
   "outputs": [
    {
     "data": {
      "text/plain": [
       "array([0., 0., 1., ..., 0., 0., 0.])"
      ]
     },
     "execution_count": 13,
     "metadata": {},
     "output_type": "execute_result"
    }
   ],
   "source": [
    "y_validation"
   ]
  },
  {
   "cell_type": "markdown",
   "metadata": {},
   "source": [
    "### Functions STARTS"
   ]
  },
  {
   "cell_type": "code",
   "execution_count": 26,
   "metadata": {},
   "outputs": [],
   "source": [
    "#Function to save Individual Model Test Probabilities for Submission to Kaggle\n",
    "def SavetoTextFile(model_name,probs,Xte):\n",
    "    # Create the data for submission by taking the P(Y=1) column from probs and just add a running index as the first column.\n",
    "    Y_sub = np.vstack([np.arange(Xte.shape[0]), probs[:, 1]]).T\n",
    "    # We specify the header (ID, Prob1) and also specify the comments as '' so the header won't be commented out with\n",
    "    # the sign.\n",
    "    file_name='Solutions/Y_sub_'+model_name+'.txt'\n",
    "    np.savetxt(file_name, Y_sub, '%d, %.5f', header='ID,Prob1', comments='', delimiter=',')\n",
    "    print('{} Saved'.format(file_name))\n",
    "    "
   ]
  },
  {
   "cell_type": "code",
   "execution_count": 42,
   "metadata": {},
   "outputs": [],
   "source": [
    "def auc_calculate_print(x,y,classifier):\n",
    "    roc = metrics.roc_auc_score(y,classifier.predict_proba(x)[:,1])\n",
    "    return(roc)"
   ]
  },
  {
   "cell_type": "markdown",
   "metadata": {},
   "source": [
    "### Functions ENDS"
   ]
  },
  {
   "cell_type": "markdown",
   "metadata": {},
   "source": [
    "### Ada Boost STARTS"
   ]
  },
  {
   "cell_type": "markdown",
   "metadata": {},
   "source": [
    "learning_ratefloat, default=1.\n",
    "- Learning rate shrinks the contribution of each classifier by learning_rate. There is a trade-off between learning_rate and n_estimators.\n"
   ]
  },
  {
   "cell_type": "code",
   "execution_count": 41,
   "metadata": {},
   "outputs": [
    {
     "name": "stdout",
     "output_type": "stream",
     "text": [
      "Ada Boost training started\n",
      "Ada Boost training finished, took 915.8517315387726 seconds\n",
      "Ada Boost Validation AUC: 0.6599961391510298\n",
      "Ada Boost Train AUC: 0.9937726770838594\n"
     ]
    }
   ],
   "source": [
    "ada_boost_classifier = AdaBoostClassifier(tree.DecisionTreeClassifier(random_state=0),\n",
    "                                          algorithm='SAMME.R',n_estimators=200, learning_rate=0.5)\n",
    "\n",
    "print(\"Ada Boost training started\")\n",
    "\n",
    "starting_time = time.time()\n",
    "\n",
    "ada_boost_classifier.fit(x_train, y_train)\n",
    "\n",
    "end_time = time.time()\n",
    "\n",
    "print(\"Ada Boost training finished, took {} seconds\".format(end_time - starting_time))\n",
    "\n",
    "#Validation AUC Calculation\n",
    "\n",
    "ada_boost_classifier_validation_roc = auc_calculate_print(x_validation,y_validation,ada_boost_classifier)\n",
    "\n",
    "print('Ada Boost Validation AUC: {}'.format(ada_boost_classifier_validation_roc))\n",
    "\n",
    "#Training AUC Calculation\n",
    "\n",
    "ada_boost_classifier_train_roc= auc_calculate_print(x_train,y_train,ada_boost_classifier)\n",
    "\n",
    "print('Ada Boost Train AUC: {}'.format(ada_boost_classifier_train_roc))"
   ]
  },
  {
   "cell_type": "code",
   "execution_count": 44,
   "metadata": {},
   "outputs": [
    {
     "name": "stdout",
     "output_type": "stream",
     "text": [
      "[[3.11943906e-03 9.96880561e-01]\n",
      " [1.56564617e-01 8.43435383e-01]\n",
      " [9.84272850e-01 1.57271498e-02]\n",
      " [9.99869853e-01 1.30146850e-04]\n",
      " [9.99409280e-01 5.90720119e-04]]\n"
     ]
    }
   ],
   "source": [
    "#Getting the individual Probabilities\n",
    "#This is what needs to be converted to txt for submission\n",
    "\n",
    "ada_boost_classifier_probs = ada_boost_classifier.predict_proba(Xte)\n",
    "print(ada_boost_classifier_probs[:5])"
   ]
  },
  {
   "cell_type": "code",
   "execution_count": 45,
   "metadata": {},
   "outputs": [
    {
     "name": "stdout",
     "output_type": "stream",
     "text": [
      "Solutions/Y_sub_ada_boost.txt Saved\n"
     ]
    }
   ],
   "source": [
    "# Make the prediction probabilities text file for Submission to Kaggle\n",
    "SavetoTextFile('ada_boost',ada_boost_classifier_probs,Xte)"
   ]
  },
  {
   "cell_type": "code",
   "execution_count": 46,
   "metadata": {},
   "outputs": [],
   "source": [
    "#Cross Checking scores\n",
    "#For reference only\n",
    "y_pred = ada_boost_classifier.predict(x_validation)"
   ]
  },
  {
   "cell_type": "code",
   "execution_count": 47,
   "metadata": {},
   "outputs": [
    {
     "name": "stdout",
     "output_type": "stream",
     "text": [
      "[[21354  4937]\n",
      " [ 6138  7571]]\n"
     ]
    },
    {
     "data": {
      "text/plain": [
       "0.723125"
      ]
     },
     "execution_count": 47,
     "metadata": {},
     "output_type": "execute_result"
    }
   ],
   "source": [
    "#Cross Checking scores\n",
    "#For reference only\n",
    "cm = confusion_matrix(y_validation,y_pred)\n",
    "print(cm)\n",
    "accuracy_score(y_validation,y_pred)"
   ]
  },
  {
   "cell_type": "markdown",
   "metadata": {},
   "source": [
    "*** Ada Boost Hyper Parameter Optimization ***\n",
    "\n",
    "*** n_estimators: ***\n",
    "\n",
    "- DecisionTreeClassifier(random_state=0),algorithm='SAMME.R',n_estimators=100, learning_rate=0.5  - 0.7277 Validation AUC,  .9937 Train AUC\n",
    "- DecisionTreeClassifier(random_state=0),algorithm='SAMME.R',n_estimators=200, learning_rate=0.5  - 0.7374 Validation AUC,  .9937 Train AUC - 489 Secs\n",
    "- DecisionTreeClassifier(random_state=0),algorithm='SAMME.R',n_estimators=500, learning_rate=0.5  - 0.7476 Validation AUC,  .9937 Train AUC - 1067 Secs\n",
    "\n",
    "Since, the Validation AUC is not improving substantially .7274 (n_estimators=200) Vs 0.7476 (n_estimators=500) we change the learning rate to 0.7 & n_estimators=200\n",
    "\n",
    "*** learning_rate: ***\n",
    "\n",
    "- DecisionTreeClassifier(random_state=0),algorithm='SAMME.R',n_estimators=500, learning_rate=0.7  - 0.7390 Validation AUC,  .9937 Train AUC - 1067 Secs\n",
    "\n",
    "Since, learning rate = 0.7 caused a drop in the AUC accuracy from .7476 (learning_rate=0.5) to  0.7390 (learning_rate=0.7) we decrease the learning rate to 0.6 & check the results\n",
    "\n",
    "- DecisionTreeClassifier(random_state=0),algorithm='SAMME.R',n_estimators=200, learning_rate=0.6  - 0.7387 Validation AUC,  .9937 Train AUC - 459 Secs\n",
    "- DecisionTreeClassifier(random_state=0),algorithm='SAMME.R',n_estimators=500, learning_rate=0.6  - 0.7478 Validation AUC,  .9937 Train AUC - 1017 Secs\n",
    "\n",
    "*** Conclusion: ***\n",
    "\n",
    "From the data above its clear that higher number of n_estimators or Trees is not making much of a impact on the Validation AUC, hence we will choose:\n",
    "- n_estimators=200, learning_rate=0.5 \n",
    "- as its provides the optimum Validation AUC of .7374 in less amount of training time"
   ]
  },
  {
   "cell_type": "markdown",
   "metadata": {},
   "source": [
    "### Ada Boost ENDS"
   ]
  }
 ],
 "metadata": {
  "kernelspec": {
   "display_name": "Python 3",
   "language": "python",
   "name": "python3"
  },
  "language_info": {
   "codemirror_mode": {
    "name": "ipython",
    "version": 3
   },
   "file_extension": ".py",
   "mimetype": "text/x-python",
   "name": "python",
   "nbconvert_exporter": "python",
   "pygments_lexer": "ipython3",
   "version": "3.7.6"
  }
 },
 "nbformat": 4,
 "nbformat_minor": 2
}
